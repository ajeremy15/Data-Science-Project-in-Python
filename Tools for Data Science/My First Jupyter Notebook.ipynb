{
 "cells": [
  {
   "cell_type": "markdown",
   "metadata": {},
   "source": [
    "# My Jupyter Notebook on IBM Watson Studio"
   ]
  },
  {
   "cell_type": "markdown",
   "metadata": {},
   "source": [
    "## **Alamsyah Jeremy Hasudungan**\n",
    "I am interested to be a data scientist at large companies"
   ]
  },
  {
   "cell_type": "markdown",
   "metadata": {},
   "source": [
    "*Eversince I study data science on IBM Data Science, I become more and more enthusiastic and more certain that data science is indeed the sexiest job in the 21st century. On the other hand, many companies have used data to make data-driven decisions and to answer business questions. Hence, I am very interested to be a data scientist.*"
   ]
  },
  {
   "cell_type": "markdown",
   "metadata": {},
   "source": [
    "### I am writing a Python code that print \"Hello World!\""
   ]
  },
  {
   "cell_type": "code",
   "execution_count": 3,
   "metadata": {},
   "outputs": [
    {
     "name": "stdout",
     "output_type": "stream",
     "text": [
      "Hello World!\n"
     ]
    }
   ],
   "source": [
    "print(\"Hello World!\")"
   ]
  },
  {
   "cell_type": "markdown",
   "metadata": {},
   "source": [
    "My Name | *is Jeremy* |**Pretty Nice, Huh?**\n",
    "--- | :---: | :---:\n",
    "**I am** | `making` | *a simple table*\n",
    "Thank you | *for* | `your attention`\n",
    "\n",
    "If you want to learn how to make a table in Jupyter Notebook, please kindly visit this link:\n",
    "<https://github.com/adam-p/markdown-here/wiki/Markdown-Cheatsheet>"
   ]
  },
  {
   "cell_type": "markdown",
   "metadata": {},
   "source": [
    "Notes: I am really sorry I could not do this peer assignment on IBM Watson Studio because I had issues upon the account registration. Fortunately, I had Jupyter Notebook installed in my computer."
   ]
  },
  {
   "cell_type": "code",
   "execution_count": null,
   "metadata": {},
   "outputs": [],
   "source": []
  }
 ],
 "metadata": {
  "kernelspec": {
   "display_name": "Python 3",
   "language": "python",
   "name": "python3"
  },
  "language_info": {
   "codemirror_mode": {
    "name": "ipython",
    "version": 3
   },
   "file_extension": ".py",
   "mimetype": "text/x-python",
   "name": "python",
   "nbconvert_exporter": "python",
   "pygments_lexer": "ipython3",
   "version": "3.8.3"
  }
 },
 "nbformat": 4,
 "nbformat_minor": 4
}
