{
 "cells": [
  {
   "cell_type": "markdown",
   "metadata": {},
   "source": [
    "# My Jupyter Notebook on IBM Watson Studio"
   ]
  },
  {
   "cell_type": "markdown",
   "metadata": {},
   "source": [
    "## **Alamsyah Jeremy Hasudungan**\n",
    "I am interested to be a data scientist at large companies"
   ]
  },
  {
   "cell_type": "markdown",
   "metadata": {},
   "source": [
    "*Eversince I study data science on IBM Data Science, I become more and more enthusiastic and more certain that data science is indeed the sexiest job in the 21st century. On the other hand, many companies have used data to make data-driven decisions and to answer business questions. Hence, I am very interested to be a data scientist.*"
   ]
  },
  {
   "cell_type": "markdown",
   "metadata": {},
   "source": [
    "### I am writing a Python code that print \"Hello World!\""
   ]
  },
  {
   "cell_type": "code",
   "execution_count": 3,
   "metadata": {},
   "outputs": [
    {
     "name": "stdout",
     "output_type": "stream",
     "text": [
      "Hello World!\n"
     ]
    }
   ],
   "source": [
    "print(\"Hello World!\")"
   ]
  },
  {
   "cell_type": "markdown",
   "metadata": {},
   "source": [
    "Hello | *My Name* | is Jeremy\n",
    "--- | :---: | ---:\n",
    "It is | `very nice` | **to share this with you**\n",
    "<ol>Top 3 |Programming Language | in Data Science\n",
    "    <li>Python</li>\n",
    "    <li>SQL</li>\n",
    "    <li>R</li>\n",
    "</ol>"
   ]
  },
  {
   "cell_type": "markdown",
   "metadata": {},
   "source": [
    "Notes: I am really sorry I had to upload this code on GitHub, rather than in Watson Studio because I had issues in making IBM Cloud Account. I hope all of you understand. I would be grateful If you do. For your information, I had Jupyter Notebook installed in my laptop using Anaconda. I have used this notebook in previous projects in my college."
   ]
  },
  {
   "cell_type": "code",
   "execution_count": null,
   "metadata": {},
   "outputs": [],
   "source": []
  }
 ],
 "metadata": {
  "kernelspec": {
   "display_name": "Python 3",
   "language": "python",
   "name": "python3"
  },
  "language_info": {
   "codemirror_mode": {
    "name": "ipython",
    "version": 3
   },
   "file_extension": ".py",
   "mimetype": "text/x-python",
   "name": "python",
   "nbconvert_exporter": "python",
   "pygments_lexer": "ipython3",
   "version": "3.8.3"
  }
 },
 "nbformat": 4,
 "nbformat_minor": 4
}
